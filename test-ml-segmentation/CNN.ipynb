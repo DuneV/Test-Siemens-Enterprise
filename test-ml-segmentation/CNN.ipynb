{
 "cells": [
  {
   "cell_type": "code",
   "execution_count": 35,
   "id": "6de55a30-0f6e-4980-8e60-ae29ef5bb9e9",
   "metadata": {},
   "outputs": [],
   "source": [
    "from tensorflow.keras.datasets import mnist\n",
    "from matplotlib import pyplot as plt"
   ]
  },
  {
   "cell_type": "code",
   "execution_count": 64,
   "id": "19f8663c-75bf-4ed5-ba49-4e8b3e5dcef1",
   "metadata": {},
   "outputs": [],
   "source": [
    "data_train, data_test = mnist.load_data()"
   ]
  },
  {
   "cell_type": "code",
   "execution_count": 65,
   "id": "dcea2a13-3206-496b-8cca-193d9164ec68",
   "metadata": {},
   "outputs": [],
   "source": [
    "X_train, y_train = data_train\n",
    "X_test, y_test = data_test"
   ]
  },
  {
   "cell_type": "code",
   "execution_count": 66,
   "id": "47ec53db-9142-4c83-9b68-7d18cff70b8e",
   "metadata": {},
   "outputs": [
    {
     "data": {
      "text/plain": [
       "<matplotlib.image.AxesImage at 0x7b68f681e680>"
      ]
     },
     "execution_count": 66,
     "metadata": {},
     "output_type": "execute_result"
    },
    {
     "data": {
      "image/png": "[encoded data removed]",
      "text/plain": [
       "<Figure size 640x480 with 1 Axes>"
      ]
     },
     "metadata": {},
     "output_type": "display_data"
    }
   ],
   "source": [
    "plt.imshow(X_train[0], cmap=\"gray\")"
   ]
  },
  {
   "cell_type": "markdown",
   "id": "4e751445-1abd-4e47-a8c9-64f72c58cff6",
   "metadata": {},
   "source": [
    "Normalizamos los datos"
   ]
  },
  {
   "cell_type": "code",
   "execution_count": 67,
   "id": "d437fe07-0b17-40ab-b28d-ab7346c203f8",
   "metadata": {},
   "outputs": [],
   "source": [
    "from tensorflow.keras.utils import to_categorical\n",
    "X_train = X_train.astype('float32')\n",
    "X_test = X_test.astype('float32')\n",
    "\n",
    "X_train = X_train/255.0\n",
    "X_test = X_test/255.0\n",
    "y_train = to_categorical(y_train)\n",
    "y_test = to_categorical(y_test)"
   ]
  },
  {
   "cell_type": "markdown",
   "id": "eb548850-4376-405b-8b5b-158fd3ca9ebd",
   "metadata": {},
   "source": [
    "## Crear modelo de red neuronal convolucional (CNN)"
   ]
  },
  {
   "cell_type": "code",
   "execution_count": 40,
   "id": "bdfeaad3-9f6d-4358-9f6e-1aee85521f00",
   "metadata": {},
   "outputs": [],
   "source": [
    "from tensorflow.keras import Sequential\n",
    "from tensorflow.keras.layers import Dense, Conv2D, MaxPool2D, Flatten, Dropout, BatchNormalization\n",
    "import tensorflow as tf\n",
    "from tensorflow.keras.optimizers import SGD"
   ]
  },
  {
   "cell_type": "code",
   "execution_count": 49,
   "id": "48978b97-3ca4-4a9d-b4b8-b5d9cd42943b",
   "metadata": {},
   "outputs": [],
   "source": [
    "cnn = Sequential()\n",
    "cnn.add(Conv2D(filters=2,(3,3),activation='relu',input_shape=(28,28,1), padding=\"same\"))\n",
    "cnn.add(MaxPool2D(pool_size=(2,2)))\n",
    "cnn.add(Flatten())\n",
    "cnn.add(Dense(10,activation='softmax'))\n",
    "\n",
    "cnn.compile(optimizer=\"adam\",\n",
    "              loss='categorical_crossentropy',\n",
    "              metrics=['accuracy'])"
   ]
  },
  {
   "cell_type": "code",
   "execution_count": 50,
   "id": "d6fec473-6d51-4a43-80e3-fbc6e1ceda5a",
   "metadata": {},
   "outputs": [
    {
     "name": "stdout",
     "output_type": "stream",
     "text": [
      "Model: \"sequential_6\"\n",
      "_________________________________________________________________\n",
      " Layer (type)                Output Shape              Param #   \n",
      "=================================================================\n",
      " conv2d_12 (Conv2D)          (None, 28, 28, 2)         20        \n",
      "                                                                 \n",
      " max_pooling2d_12 (MaxPooli  (None, 14, 14, 2)         0         \n",
      " ng2D)                                                           \n",
      "                                                                 \n",
      " flatten_6 (Flatten)         (None, 392)               0         \n",
      "                                                                 \n",
      " dense_16 (Dense)            (None, 10)                3930      \n",
      "                                                                 \n",
      "=================================================================\n",
      "Total params: 3950 (15.43 KB)\n",
      "Trainable params: 3950 (15.43 KB)\n",
      "Non-trainable params: 0 (0.00 Byte)\n",
      "_________________________________________________________________\n"
     ]
    }
   ],
   "source": [
    "cnn.summary()"
   ]
  },
  {
   "cell_type": "code",
   "execution_count": 52,
   "id": "bee1dc00-f4d7-4a97-8c5e-8d5b29c2cab2",
   "metadata": {},
   "outputs": [
    {
     "name": "stdout",
     "output_type": "stream",
     "text": [
      "Epoch 1/10\n",
      "1875/1875 [==============================] - 3s 2ms/step - loss: 0.3709 - accuracy: 0.8883\n",
      "Epoch 2/10\n",
      "1875/1875 [==============================] - 3s 2ms/step - loss: 0.2047 - accuracy: 0.9399\n",
      "Epoch 3/10\n",
      "1875/1875 [==============================] - 3s 2ms/step - loss: 0.1626 - accuracy: 0.9513\n",
      "Epoch 4/10\n",
      "1875/1875 [==============================] - 3s 2ms/step - loss: 0.1483 - accuracy: 0.9556\n",
      "Epoch 5/10\n",
      "1875/1875 [==============================] - 3s 2ms/step - loss: 0.1391 - accuracy: 0.9582\n",
      "Epoch 6/10\n",
      "1875/1875 [==============================] - 3s 2ms/step - loss: 0.1358 - accuracy: 0.9584\n",
      "Epoch 7/10\n",
      "1875/1875 [==============================] - 3s 2ms/step - loss: 0.1308 - accuracy: 0.9603\n",
      "Epoch 8/10\n",
      "1875/1875 [==============================] - 3s 2ms/step - loss: 0.1290 - accuracy: 0.9611\n",
      "Epoch 9/10\n",
      "1875/1875 [==============================] - 3s 2ms/step - loss: 0.1264 - accuracy: 0.9606\n",
      "Epoch 10/10\n",
      "1875/1875 [==============================] - 3s 2ms/step - loss: 0.1243 - accuracy: 0.9625\n"
     ]
    },
    {
     "data": {
      "text/plain": [
       "<keras.src.callbacks.History at 0x7b68c01f6f20>"
      ]
     },
     "execution_count": 52,
     "metadata": {},
     "output_type": "execute_result"
    }
   ],
   "source": [
    "cnn.fit(X_train, y_train, epochs=10, batch_size=32)"
   ]
  },
  {
   "cell_type": "code",
   "execution_count": 68,
   "id": "2c9b6797-5842-483d-8425-4e0d5ca3ca6f",
   "metadata": {},
   "outputs": [
    {
     "name": "stdout",
     "output_type": "stream",
     "text": [
      "313/313 [==============================] - 0s 1ms/step - loss: 0.1256 - accuracy: 0.9608\n"
     ]
    },
    {
     "data": {
      "text/plain": [
       "[0.1256294995546341, 0.9607999920845032]"
      ]
     },
     "execution_count": 68,
     "metadata": {},
     "output_type": "execute_result"
    }
   ],
   "source": [
    "cnn.evaluate(X_test, y_test)"
   ]
  },
  {
   "cell_type": "markdown",
   "id": "da62dfbf-8d88-4955-9e0e-e3390a6f0e11",
   "metadata": {},
   "source": [
    "# Ejercicio CIFAR10"
   ]
  },
  {
   "cell_type": "code",
   "execution_count": 75,
   "id": "15eae14f-1f0b-4d8a-9a19-2965e6411103",
   "metadata": {},
   "outputs": [],
   "source": [
    "from tensorflow.keras.datasets import cifar10"
   ]
  },
  {
   "cell_type": "code",
   "execution_count": 106,
   "id": "1f8e9419-d1fe-4174-9694-69d5ce830df1",
   "metadata": {},
   "outputs": [],
   "source": [
    "data_train, data_test = cifar10.load_data()"
   ]
  },
  {
   "cell_type": "code",
   "execution_count": 107,
   "id": "b8f415d0-8634-4707-9ffa-e381c3668a27",
   "metadata": {},
   "outputs": [],
   "source": [
    "X_train, y_train = data_train\n",
    "X_test, y_test = data_test"
   ]
  },
  {
   "cell_type": "code",
   "execution_count": 108,
   "id": "6d8afc1e-5475-441c-8096-7e8777c9d47f",
   "metadata": {},
   "outputs": [
    {
     "data": {
      "text/plain": [
       "(50000, 32, 32, 3)"
      ]
     },
     "execution_count": 108,
     "metadata": {},
     "output_type": "execute_result"
    }
   ],
   "source": [
    "X_train.shape"
   ]
  },
  {
   "cell_type": "code",
   "execution_count": 112,
   "id": "88d3c18d-b616-4c58-9d7a-9c6a7e43cfb0",
   "metadata": {},
   "outputs": [
    {
     "data": {
      "image/png": "[encoded data removed]",
      "text/plain": [
       "<Figure size 640x480 with 1 Axes>"
      ]
     },
     "metadata": {},
     "output_type": "display_data"
    }
   ],
   "source": [
    "idx = 534\n",
    "plt.imshow(X_train[idx])\n",
    "plt.title(y_train[idx])\n",
    "plt.show()"
   ]
  },
  {
   "cell_type": "code",
   "execution_count": 80,
   "id": "ed813e0e-7ba1-428e-9f9e-1d2f19d10291",
   "metadata": {},
   "outputs": [],
   "source": [
    "from tensorflow.keras.utils import to_categorical\n",
    "X_train = X_train.astype('float32')\n",
    "X_test = X_test.astype('float32')\n",
    "\n",
    "X_train = X_train/255.0\n",
    "X_test = X_test/255.0\n",
    "y_train = to_categorical(y_train)\n",
    "y_test = to_categorical(y_test)"
   ]
  },
  {
   "cell_type": "code",
   "execution_count": 99,
   "id": "f84d8343-5f21-482f-a2bf-54944007cfb9",
   "metadata": {},
   "outputs": [],
   "source": [
    "cnn = Sequential()\n",
    "cnn.add(Conv2D(filters=2,(3,3),activation='relu',input_shape=(32,32,3), padding=\"same\"))\n",
    "cnn.add(MaxPooling2D(pool_size=(2,2)))\n",
    "cnn.add(Flatten())\n",
    "cnn.add(Dense(10,activation='softmax'))\n",
    "\n",
    "cnn.compile(optimizer=\"adam\",\n",
    "              loss='categorical_crossentropy',\n",
    "              metrics=['accuracy'])"
   ]
  },
  {
   "cell_type": "code",
   "execution_count": 100,
   "id": "e906b225-a80b-4db7-9eba-b2efcba5f342",
   "metadata": {},
   "outputs": [
    {
     "name": "stdout",
     "output_type": "stream",
     "text": [
      "Model: \"sequential_15\"\n",
      "_________________________________________________________________\n",
      " Layer (type)                Output Shape              Param #   \n",
      "=================================================================\n",
      " conv2d_38 (Conv2D)          (None, 32, 32, 2)         56        \n",
      "                                                                 \n",
      " max_pooling2d_28 (MaxPooli  (None, 16, 16, 2)         0         \n",
      " ng2D)                                                           \n",
      "                                                                 \n",
      " flatten_14 (Flatten)        (None, 512)               0         \n",
      "                                                                 \n",
      " dense_29 (Dense)            (None, 10)                5130      \n",
      "                                                                 \n",
      "=================================================================\n",
      "Total params: 5186 (20.26 KB)\n",
      "Trainable params: 5186 (20.26 KB)\n",
      "Non-trainable params: 0 (0.00 Byte)\n",
      "_________________________________________________________________\n"
     ]
    }
   ],
   "source": [
    "cnn.summary()"
   ]
  },
  {
   "cell_type": "code",
   "execution_count": 101,
   "id": "76166c45-4ddd-406c-9b52-9a3538536b92",
   "metadata": {},
   "outputs": [
    {
     "name": "stdout",
     "output_type": "stream",
     "text": [
      "Epoch 1/10\n",
      "1563/1563 [==============================] - 3s 2ms/step - loss: 1.8619 - accuracy: 0.3369\n",
      "Epoch 2/10\n",
      "1563/1563 [==============================] - 2s 2ms/step - loss: 1.6491 - accuracy: 0.4187\n",
      "Epoch 3/10\n",
      "1563/1563 [==============================] - 2s 2ms/step - loss: 1.6045 - accuracy: 0.4350\n",
      "Epoch 4/10\n",
      "1563/1563 [==============================] - 2s 2ms/step - loss: 1.5775 - accuracy: 0.4434\n",
      "Epoch 5/10\n",
      "1563/1563 [==============================] - 2s 2ms/step - loss: 1.5529 - accuracy: 0.4538\n",
      "Epoch 6/10\n",
      "1563/1563 [==============================] - 2s 2ms/step - loss: 1.5343 - accuracy: 0.4591\n",
      "Epoch 7/10\n",
      "1563/1563 [==============================] - 2s 2ms/step - loss: 1.5204 - accuracy: 0.4638\n",
      "Epoch 8/10\n",
      "1563/1563 [==============================] - 2s 2ms/step - loss: 1.5093 - accuracy: 0.4696\n",
      "Epoch 9/10\n",
      "1563/1563 [==============================] - 2s 2ms/step - loss: 1.4973 - accuracy: 0.4746\n",
      "Epoch 10/10\n",
      "1563/1563 [==============================] - 2s 2ms/step - loss: 1.4905 - accuracy: 0.4762\n"
     ]
    },
    {
     "data": {
      "text/plain": [
       "<keras.src.callbacks.History at 0x7b68f54be1a0>"
      ]
     },
     "execution_count": 101,
     "metadata": {},
     "output_type": "execute_result"
    }
   ],
   "source": [
    "cnn.fit(X_train, y_train, epochs=10, batch_size=32)"
   ]
  },
  {
   "cell_type": "markdown",
   "id": "e2c206a9-cb49-4cca-a620-c025e34afb54",
   "metadata": {},
   "source": [
    "## Cree un mejor modelo\n",
    "\n",
    "Obtenga un accuracy del 70% o más en, por lo menos, 10 épocas"
   ]
  },
  {
   "cell_type": "code",
   "execution_count": 115,
   "id": "0e723fa9-a88e-45d6-a045-b665dec59e9f",
   "metadata": {},
   "outputs": [],
   "source": [
    "model = Sequential()\n",
    "\n",
    "model.add(Conv2D(filters=2,(3,3),activation='relu',input_shape=(32,32,3), padding=\"same\"))\n",
    "model.add(MaxPool2D(pool_size=(2,2)))\n",
    "model.add(Flatten())\n",
    "model.add(Dense(10,activation='softmax'))\n",
    "\n",
    "cnn.compile(optimizer=\"adam\",\n",
    "              loss='categorical_crossentropy',\n",
    "              metrics=['accuracy'])"
   ]
  },
  {
   "cell_type": "code",
   "execution_count": null,
   "id": "11e6b3ea-ba24-45b4-9f9c-159b6fa7ce00",
   "metadata": {},
   "outputs": [],
   "source": [
    "model.summary()\n"
   ]
  },
  {
   "cell_type": "code",
   "execution_count": null,
   "id": "1e1bed62-1322-4019-a2d8-a7a03b4c6d2a",
   "metadata": {},
   "outputs": [],
   "source": []
  }
 ],
 "metadata": {
  "kernelspec": {
   "display_name": "data science",
   "language": "python",
   "name": "ds"
  },
  "language_info": {
   "codemirror_mode": {
    "name": "ipython",
    "version": 3
   },
   "file_extension": ".py",
   "mimetype": "text/x-python",
   "name": "python",
   "nbconvert_exporter": "python",
   "pygments_lexer": "ipython3",
   "version": "3.10.12"
  }
 },
 "nbformat": 4,
 "nbformat_minor": 5
}
